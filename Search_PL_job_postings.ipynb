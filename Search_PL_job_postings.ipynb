{
 "cells": [
  {
   "cell_type": "code",
   "execution_count": 1,
   "metadata": {},
   "outputs": [],
   "source": [
    "# Import necessary libraries\n",
    "import pandas as pd\n",
    "import numpy as np\n",
    "import matplotlib.pyplot as plt\n",
    "# BeautifulSoup is used to pulling data out of HTML and XML files\n",
    "from bs4 import BeautifulSoup as bs\n",
    "# For making HTTP requests in Python code\n",
    "import requests"
   ]
  },
  {
   "cell_type": "code",
   "execution_count": 3,
   "metadata": {},
   "outputs": [],
   "source": [
    "# Programming languages we are going to be looking for\n",
    "search_languages = [\n",
    "\"Python\",\n",
    "\"Java\",\n",
    "\"C++\",\n",
    "\"Matlab\",\n",
    "\"Javascript\",\n",
    "]"
   ]
  },
  {
   "cell_type": "code",
   "execution_count": 4,
   "metadata": {},
   "outputs": [
    {
     "data": {
      "text/plain": [
       "[6842, 7617, 19944, 728, 5505]"
      ]
     },
     "execution_count": 4,
     "metadata": {},
     "output_type": "execute_result"
    }
   ],
   "source": [
    "# First webside: Indeed\n",
    "indeed_list = []\n",
    "\n",
    "for language in search_languages:\n",
    "    url = f'https://www.indeed.fr/emplois?q={language}&l=France'\n",
    "    num_offers = \"\"\n",
    "    try:\n",
    "        r = requests.get(url, timeout=5)\n",
    "        soup = bs(r.text, 'html.parser')\n",
    "        count = soup.find('div', id=\"searchCountPages\").get_text()\n",
    "        for s in count.split() :\n",
    "            if s.isdigit() and count.split().index(s) > 1: \n",
    "                num_offers = num_offers+s\n",
    "        indeed_list.append(int(num_offers))\n",
    "    except Exception as e:\n",
    "        print(f'error: {e}')\n",
    "        \n",
    "indeed_list"
   ]
  },
  {
   "cell_type": "code",
   "execution_count": 5,
   "metadata": {},
   "outputs": [
    {
     "data": {
      "text/plain": [
       "[1151, 1992, 587, 176, 2445]"
      ]
     },
     "execution_count": 5,
     "metadata": {},
     "output_type": "execute_result"
    }
   ],
   "source": [
    "monster_list = []\n",
    "\n",
    "for language in search_languages:\n",
    "    url = f'https://www.monster.fr/emploi/recherche/?q={language}&where=France&cy=fr'\n",
    "    try:\n",
    "        r =requests.get(url, timeout=5)\n",
    "        soup = bs(r.text, 'html.parser')\n",
    "        count = soup.find('h2', class_=\"figure\").get_text()\n",
    "        num_l = count.split()\n",
    "        monster_count = num_l[0].replace(\"(\", \"\")\n",
    "        monster_list.append(int(monster_count))\n",
    "    except Exception as e:\n",
    "        print(f'error: {e}')\n",
    "        \n",
    "monster_list"
   ]
  },
  {
   "cell_type": "code",
   "execution_count": 6,
   "metadata": {},
   "outputs": [
    {
     "data": {
      "text/plain": [
       "[6778, 3966, 4825, 5, 351]"
      ]
     },
     "execution_count": 6,
     "metadata": {},
     "output_type": "execute_result"
    }
   ],
   "source": [
    "pole_emploi_list = []\n",
    "\n",
    "for language in search_languages:\n",
    "    url = f'https://candidat.pole-emploi.fr/offres/recherche?motsCles={language}&offresPartenaires=true&rayon=10&tri=0'\n",
    "    try:\n",
    "        r = requests.get(url, timeout=5)\n",
    "        soup = bs(r.text, 'html.parser')\n",
    "        count = soup.find('div', id=\"zoneAfficherListeOffres\").get_text()\n",
    "        numb = count.split()\n",
    "        pole_emploi_list.append(int(numb[0]))\n",
    "    except Exception as e:\n",
    "        print(f'error: {e}')\n",
    "        \n",
    "pole_emploi_list"
   ]
  },
  {
   "cell_type": "code",
   "execution_count": 7,
   "metadata": {},
   "outputs": [
    {
     "data": {
      "text/plain": [
       "[129, 181, 5, 1, 135]"
      ]
     },
     "execution_count": 7,
     "metadata": {},
     "output_type": "execute_result"
    }
   ],
   "source": [
    "keljob_list = []\n",
    "\n",
    "for language in search_languages:\n",
    "    url = f'https://www.keljob.com/recherche?q={language}'\n",
    "    \n",
    "    try:\n",
    "        r = requests.get(url, timeout=5)\n",
    "        soup = bs(r.text, 'html.parser')\n",
    "        count = soup.find('h1', class_=\"search-counter no-margin-bottom\").get_text()\n",
    "        numb = count.split()\n",
    "        keljob_list.append(int(numb[0].replace('Une','1')))\n",
    "    except Exception as e:\n",
    "        print(f'error: {e}')\n",
    "        \n",
    "keljob_list"
   ]
  },
  {
   "cell_type": "code",
   "execution_count": 8,
   "metadata": {},
   "outputs": [
    {
     "data": {
      "image/png": "[encoded data removed]",
      "text/plain": [
       "<Figure size 432x288 with 1 Axes>"
      ]
     },
     "metadata": {
      "needs_background": "light"
     },
     "output_type": "display_data"
    }
   ],
   "source": [
    "x = np.array([1, 2, 3, 4, 5])\n",
    "my_xticks = ['Python','Java','C++','Matlab','Javascript']\n",
    "plt.xticks(x, my_xticks)\n",
    "plt.plot(x, indeed_list, '-x', label = 'Indeed')\n",
    "plt.plot(x, monster_list, '-x', label = 'Monster')\n",
    "plt.plot(x, pole_emploi_list, '-x', label = 'Pole Emploi')\n",
    "plt.plot(x, keljob_list, '-x', label = 'Keljob')\n",
    "plt.legend()\n",
    "plt.show()"
   ]
  },
  {
   "cell_type": "code",
   "execution_count": null,
   "metadata": {},
   "outputs": [],
   "source": []
  }
 ],
 "metadata": {
  "kernelspec": {
   "display_name": "Python 3",
   "language": "python",
   "name": "python3"
  },
  "language_info": {
   "codemirror_mode": {
    "name": "ipython",
    "version": 3
   },
   "file_extension": ".py",
   "mimetype": "text/x-python",
   "name": "python",
   "nbconvert_exporter": "python",
   "pygments_lexer": "ipython3",
   "version": "3.7.4"
  }
 },
 "nbformat": 4,
 "nbformat_minor": 4
}
